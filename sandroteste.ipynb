{
 "cells": [
  {
   "cell_type": "code",
   "execution_count": 6,
   "id": "8b87d5d5",
   "metadata": {
    "ExecuteTime": {
     "end_time": "2022-06-07T21:15:51.229164Z",
     "start_time": "2022-06-07T21:14:44.604099Z"
    }
   },
   "outputs": [
    {
     "name": "stdout",
     "output_type": "stream",
     "text": [
      "\u001b[34m\n",
      "**********************************************************\n",
      "**********************************************************\n",
      "*****                                               ******\n",
      "*****  THANK YOU FOR USING WHATSAPP BULK MESSENGER  ******\n",
      "*****      This tool was built by Anirudh Bagri     ******\n",
      "*****           www.github.com/anirudhbagri         ******\n",
      "*****                                               ******\n",
      "**********************************************************\n",
      "**********************************************************\n",
      "\u001b[0m\n",
      "\u001b[33m\n",
      "This is your message-\n",
      "\u001b[32mOlá ! Segue a promoção da semana !!!\n",
      "\n",
      "https://wa.me/p/4838008322971807/5511943995011\n",
      "\n",
      "\u001b[0m\n",
      "\u001b[31mWe found 3 numbers in the file\u001b[0m\n",
      "\n"
     ]
    },
    {
     "name": "stderr",
     "output_type": "stream",
     "text": [
      "[WDM] - ====== WebDriver manager ======\n",
      "[WDM] - Current google-chrome version is 102.0.5005\n",
      "[WDM] - Get LATEST chromedriver version for 102.0.5005 google-chrome\n",
      "[WDM] - Driver [/Users/thiago/.wdm/drivers/chromedriver/mac64/102.0.5005.61/chromedriver] found in cache\n",
      "/var/folders/w5/0w2xv4r95g1gfgbzpp2dm6gr0000gn/T/ipykernel_31757/330475768.py:62: DeprecationWarning: executable_path has been deprecated, please pass in a Service object\n",
      "  driver = webdriver.Chrome(ChromeDriverManager().install(), options=options)\n"
     ]
    },
    {
     "name": "stdout",
     "output_type": "stream",
     "text": [
      "Once your browser opens up sign in to web whatsapp\n",
      "\u001b[33m1/3 => Sending message to 5511976433369.\u001b[0m\n",
      "\u001b[32mMessage sent to: 5511976433369\u001b[0m\n",
      "\u001b[33m2/3 => Sending message to 5511945846026.\u001b[0m\n",
      "\u001b[32mMessage sent to: 5511945846026\u001b[0m\n",
      "\u001b[33m3/3 => Sending message to 5511994606465.\u001b[0m\n",
      "\u001b[32mMessage sent to: 5511994606465\u001b[0m\n"
     ]
    }
   ],
   "source": [
    "from selenium import webdriver\n",
    "from selenium.webdriver.chrome.options import Options\n",
    "from selenium.webdriver.support.ui import WebDriverWait\n",
    "from selenium.webdriver.support import expected_conditions as EC\n",
    "from selenium.webdriver.common.by import By\n",
    "from webdriver_manager.chrome import ChromeDriverManager\n",
    "from time import sleep\n",
    "from urllib.parse import quote\n",
    "import os\n",
    "\n",
    "options = Options()\n",
    "options.add_experimental_option(\"excludeSwitches\", [\"enable-logging\"])\n",
    "options.add_argument(\"--profile-directory=Default\")\n",
    "options.add_argument(\"--user-data-dir=/var/tmp/chrome_user_data\")\n",
    "\n",
    "os.system(\"\")\n",
    "os.environ[\"WDM_LOG_LEVEL\"] = \"0\"\n",
    "class style():\n",
    "    BLACK = '\\033[30m'\n",
    "    RED = '\\033[31m'\n",
    "    GREEN = '\\033[32m'\n",
    "    YELLOW = '\\033[33m'\n",
    "    BLUE = '\\033[34m'\n",
    "    MAGENTA = '\\033[35m'\n",
    "    CYAN = '\\033[36m'\n",
    "    WHITE = '\\033[37m'\n",
    "    UNDERLINE = '\\033[4m'\n",
    "    RESET = '\\033[0m'\n",
    "\n",
    "print(style.BLUE)\n",
    "print(\"**********************************************************\")\n",
    "print(\"**********************************************************\")\n",
    "print(\"*****                                               ******\")\n",
    "print(\"*****  THANK YOU FOR USING WHATSAPP BULK MESSENGER  ******\")\n",
    "print(\"*****      This tool was built by Anirudh Bagri     ******\")\n",
    "print(\"*****           www.github.com/anirudhbagri         ******\")\n",
    "print(\"*****                                               ******\")\n",
    "print(\"**********************************************************\")\n",
    "print(\"**********************************************************\")\n",
    "print(style.RESET)\n",
    "\n",
    "f = open(\"message.txt\", \"r\")\n",
    "message = f.read()\n",
    "f.close()\n",
    "\n",
    "print(style.YELLOW + '\\nThis is your message-')\n",
    "print(style.GREEN + message)\n",
    "print(\"\\n\" + style.RESET)\n",
    "message = quote(message)\n",
    "\n",
    "numbers = []\n",
    "f = open(\"numbers.txt\", \"r\")\n",
    "#image = open(\"image.jpg\", \"r\")\n",
    "for line in f.read().splitlines():\n",
    "\tif line.strip() != \"\":\n",
    "\t\tnumbers.append(line.strip())\n",
    "f.close()\n",
    "total_number=len(numbers)\n",
    "print(style.RED + 'We found ' + str(total_number) + ' numbers in the file' + style.RESET)\n",
    "delay = 30\n",
    "\n",
    "driver = webdriver.Chrome(ChromeDriverManager().install(), options=options)\n",
    "print('Once your browser opens up sign in to web whatsapp')\n",
    "driver.get('https://web.whatsapp.com')\n",
    "#input(style.MAGENTA + \"AFTER logging into Whatsapp Web is complete and your chats are visible, press ENTER...\" + style.RESET)\n",
    "for idx, number in enumerate(numbers):\n",
    "\tnumber = number.strip()\n",
    "\tif number == \"\":\n",
    "\t\tcontinue\n",
    "\tprint(style.YELLOW + '{}/{} => Sending message to {}.'.format((idx+1), total_number, number) + style.RESET)\n",
    "\ttry:\n",
    "\t\turl = 'https://web.whatsapp.com/send?phone=' + number + '&text=' + message\n",
    "\t\tsent = False\n",
    "\t\tfor i in range(3):\n",
    "\t\t\tif not sent:\n",
    "\t\t\t\tdriver.get(url)\n",
    "\t\t\t\ttry:\n",
    "\t\t\t\t\tclick_btn = WebDriverWait(driver, delay).until(EC.element_to_be_clickable((By.XPATH, \"//*[@id='main']/footer/div[1]/div/span[2]/div/div[2]/div[2]/button/span\")))\n",
    "                    \n",
    "\t\t\t\texcept Exception as e:\n",
    "\t\t\t\t\tprint(style.RED + f\"\\nFailed to send message to: {number}, retry ({i+1}/3)\")\n",
    "\t\t\t\t\tprint(\"Make sure your phone and computer is connected to the internet.\")\n",
    "\t\t\t\t\tprint(\"If there is an alert, please dismiss it.\" + style.RESET)\n",
    "\t\t\t\telse:\n",
    "\t\t\t\t\tsleep(1)\n",
    "\t\t\t\t\tclick_btn.click()\n",
    "\t\t\t\t\tsent=True\n",
    "\t\t\t\t\tsleep(3)\n",
    "\t\t\t\t\tprint(style.GREEN + 'Message sent to: ' + number + style.RESET)\n",
    "\texcept Exception as e:\n",
    "\t\tprint(style.RED + 'Failed to send message to ' + number + str(e) + style.RESET)\n",
    "driver.close()"
   ]
  },
  {
   "cell_type": "code",
   "execution_count": 3,
   "id": "1716fed3",
   "metadata": {
    "ExecuteTime": {
     "end_time": "2022-06-07T21:13:41.364919Z",
     "start_time": "2022-06-07T21:13:40.871140Z"
    }
   },
   "outputs": [
    {
     "name": "stdout",
     "output_type": "stream",
     "text": [
      "appnope==0.1.3\n",
      "asttokens==2.0.5\n",
      "async-generator==1.10\n",
      "attrs==21.4.0\n",
      "backcall==0.2.0\n",
      "certifi==2022.5.18.1\n",
      "cffi==1.15.0\n",
      "cryptography==37.0.2\n",
      "debugpy==1.6.0\n",
      "decorator==5.1.1\n",
      "entrypoints==0.4\n",
      "executing==0.8.3\n",
      "h11==0.13.0\n",
      "idna==3.3\n",
      "ipykernel==6.13.1\n",
      "ipython==8.4.0\n",
      "jedi==0.18.1\n",
      "jupyter-client==7.3.3\n",
      "jupyter-core==4.10.0\n",
      "matplotlib-inline==0.1.3\n",
      "nest-asyncio==1.5.5\n",
      "outcome==1.1.0\n",
      "packaging==21.3\n",
      "parso==0.8.3\n",
      "pexpect==4.8.0\n",
      "pickleshare==0.7.5\n",
      "prompt-toolkit==3.0.29\n",
      "psutil==5.9.1\n",
      "ptyprocess==0.7.0\n",
      "pure-eval==0.2.2\n",
      "pycparser==2.21\n",
      "Pygments==2.12.0\n",
      "pyOpenSSL==22.0.0\n",
      "pyparsing==3.0.9\n",
      "PySocks==1.7.1\n",
      "python-dateutil==2.8.2\n",
      "pyzmq==23.1.0\n",
      "selenium==4.2.0\n",
      "six==1.16.0\n",
      "sniffio==1.2.0\n",
      "sortedcontainers==2.4.0\n",
      "stack-data==0.2.0\n",
      "tornado==6.1\n",
      "traitlets==5.2.2.post1\n",
      "trio==0.21.0\n",
      "trio-websocket==0.9.2\n",
      "urllib3==1.26.9\n",
      "wcwidth==0.2.5\n",
      "wsproto==1.1.0\n",
      "Note: you may need to restart the kernel to use updated packages.\n"
     ]
    }
   ],
   "source": [
    "pip freeze"
   ]
  },
  {
   "cell_type": "code",
   "execution_count": 5,
   "id": "c3612fc7",
   "metadata": {
    "ExecuteTime": {
     "end_time": "2022-06-07T21:14:38.088572Z",
     "start_time": "2022-06-07T21:14:37.103020Z"
    }
   },
   "outputs": [
    {
     "name": "stdout",
     "output_type": "stream",
     "text": [
      "Collecting webdriver_manager\n",
      "  Using cached webdriver_manager-3.7.0-py2.py3-none-any.whl (25 kB)\n",
      "Collecting requests\n",
      "  Using cached requests-2.27.1-py2.py3-none-any.whl (63 kB)\n",
      "Collecting python-dotenv\n",
      "  Using cached python_dotenv-0.20.0-py3-none-any.whl (17 kB)\n",
      "Requirement already satisfied: certifi>=2017.4.17 in ./sandro_appenv/lib/python3.9/site-packages (from requests->webdriver_manager) (2022.5.18.1)\n",
      "Collecting charset-normalizer~=2.0.0\n",
      "  Using cached charset_normalizer-2.0.12-py3-none-any.whl (39 kB)\n",
      "Requirement already satisfied: idna<4,>=2.5 in ./sandro_appenv/lib/python3.9/site-packages (from requests->webdriver_manager) (3.3)\n",
      "Requirement already satisfied: urllib3<1.27,>=1.21.1 in ./sandro_appenv/lib/python3.9/site-packages (from requests->webdriver_manager) (1.26.9)\n",
      "Installing collected packages: python-dotenv, charset-normalizer, requests, webdriver_manager\n",
      "Successfully installed charset-normalizer-2.0.12 python-dotenv-0.20.0 requests-2.27.1 webdriver_manager-3.7.0\n",
      "Note: you may need to restart the kernel to use updated packages.\n"
     ]
    }
   ],
   "source": [
    "pip install webdriver_manager\n"
   ]
  },
  {
   "cell_type": "code",
   "execution_count": null,
   "id": "47afe98c",
   "metadata": {},
   "outputs": [],
   "source": []
  }
 ],
 "metadata": {
  "kernelspec": {
   "display_name": "sandro_appenv",
   "language": "python",
   "name": "sandro_appenv"
  },
  "language_info": {
   "codemirror_mode": {
    "name": "ipython",
    "version": 3
   },
   "file_extension": ".py",
   "mimetype": "text/x-python",
   "name": "python",
   "nbconvert_exporter": "python",
   "pygments_lexer": "ipython3",
   "version": "3.9.4"
  },
  "varInspector": {
   "cols": {
    "lenName": 16,
    "lenType": 16,
    "lenVar": 40
   },
   "kernels_config": {
    "python": {
     "delete_cmd_postfix": "",
     "delete_cmd_prefix": "del ",
     "library": "var_list.py",
     "varRefreshCmd": "print(var_dic_list())"
    },
    "r": {
     "delete_cmd_postfix": ") ",
     "delete_cmd_prefix": "rm(",
     "library": "var_list.r",
     "varRefreshCmd": "cat(var_dic_list()) "
    }
   },
   "types_to_exclude": [
    "module",
    "function",
    "builtin_function_or_method",
    "instance",
    "_Feature"
   ],
   "window_display": false
  }
 },
 "nbformat": 4,
 "nbformat_minor": 5
}
