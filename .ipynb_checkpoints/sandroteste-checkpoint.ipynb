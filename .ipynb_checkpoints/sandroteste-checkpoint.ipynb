{
 "cells": [
  {
   "cell_type": "code",
   "execution_count": 5,
   "id": "8b87d5d5",
   "metadata": {
    "ExecuteTime": {
     "end_time": "2022-06-07T14:23:43.057550Z",
     "start_time": "2022-06-07T14:22:38.251341Z"
    }
   },
   "outputs": [
    {
     "name": "stdout",
     "output_type": "stream",
     "text": [
      "\u001b[34m\n",
      "**********************************************************\n",
      "**********************************************************\n",
      "*****                                               ******\n",
      "*****  THANK YOU FOR USING WHATSAPP BULK MESSENGER  ******\n",
      "*****      This tool was built by Anirudh Bagri     ******\n",
      "*****           www.github.com/anirudhbagri         ******\n",
      "*****                                               ******\n",
      "**********************************************************\n",
      "**********************************************************\n",
      "\u001b[0m\n",
      "\u001b[33m\n",
      "This is your message-\n",
      "\u001b[32mOlá ! Segue a promoção da semana !!!\n",
      "\n",
      "https://wa.me/p/4838008322971807/5511943995011\n",
      "\n",
      "\u001b[0m\n",
      "\u001b[31mWe found 3 numbers in the file\u001b[0m\n",
      "\n"
     ]
    },
    {
     "name": "stderr",
     "output_type": "stream",
     "text": [
      "[WDM] - ====== WebDriver manager ======\n",
      "[WDM] - Current google-chrome version is 102.0.5005\n",
      "[WDM] - Get LATEST chromedriver version for 102.0.5005 google-chrome\n",
      "[WDM] - Driver [/Users/thiago/.wdm/drivers/chromedriver/mac64/102.0.5005.61/chromedriver] found in cache\n",
      "/var/folders/w5/0w2xv4r95g1gfgbzpp2dm6gr0000gn/T/ipykernel_21657/330475768.py:62: DeprecationWarning: executable_path has been deprecated, please pass in a Service object\n",
      "  driver = webdriver.Chrome(ChromeDriverManager().install(), options=options)\n"
     ]
    },
    {
     "name": "stdout",
     "output_type": "stream",
     "text": [
      "Once your browser opens up sign in to web whatsapp\n",
      "\u001b[33m1/3 => Sending message to 5511976433369.\u001b[0m\n",
      "\u001b[32mMessage sent to: 5511976433369\u001b[0m\n",
      "\u001b[33m2/3 => Sending message to 5511945846026.\u001b[0m\n",
      "\u001b[32mMessage sent to: 5511945846026\u001b[0m\n",
      "\u001b[33m3/3 => Sending message to 5511994606465.\u001b[0m\n",
      "\u001b[31m\n",
      "Failed to send message to: 5511994606465, retry (1/3)\n",
      "Make sure your phone and computer is connected to the internet.\n",
      "If there is an alert, please dismiss it.\u001b[0m\n",
      "\u001b[31m\n",
      "Failed to send message to: 5511994606465, retry (2/3)\n",
      "Make sure your phone and computer is connected to the internet.\n",
      "If there is an alert, please dismiss it.\u001b[0m\n",
      "\u001b[32mMessage sent to: 5511994606465\u001b[0m\n"
     ]
    }
   ],
   "source": [
    "from selenium import webdriver\n",
    "from selenium.webdriver.chrome.options import Options\n",
    "from selenium.webdriver.support.ui import WebDriverWait\n",
    "from selenium.webdriver.support import expected_conditions as EC\n",
    "from selenium.webdriver.common.by import By\n",
    "from webdriver_manager.chrome import ChromeDriverManager\n",
    "from time import sleep\n",
    "from urllib.parse import quote\n",
    "import os\n",
    "\n",
    "options = Options()\n",
    "options.add_experimental_option(\"excludeSwitches\", [\"enable-logging\"])\n",
    "options.add_argument(\"--profile-directory=Default\")\n",
    "options.add_argument(\"--user-data-dir=/var/tmp/chrome_user_data\")\n",
    "\n",
    "os.system(\"\")\n",
    "os.environ[\"WDM_LOG_LEVEL\"] = \"0\"\n",
    "class style():\n",
    "    BLACK = '\\033[30m'\n",
    "    RED = '\\033[31m'\n",
    "    GREEN = '\\033[32m'\n",
    "    YELLOW = '\\033[33m'\n",
    "    BLUE = '\\033[34m'\n",
    "    MAGENTA = '\\033[35m'\n",
    "    CYAN = '\\033[36m'\n",
    "    WHITE = '\\033[37m'\n",
    "    UNDERLINE = '\\033[4m'\n",
    "    RESET = '\\033[0m'\n",
    "\n",
    "print(style.BLUE)\n",
    "print(\"**********************************************************\")\n",
    "print(\"**********************************************************\")\n",
    "print(\"*****                                               ******\")\n",
    "print(\"*****  THANK YOU FOR USING WHATSAPP BULK MESSENGER  ******\")\n",
    "print(\"*****      This tool was built by Anirudh Bagri     ******\")\n",
    "print(\"*****           www.github.com/anirudhbagri         ******\")\n",
    "print(\"*****                                               ******\")\n",
    "print(\"**********************************************************\")\n",
    "print(\"**********************************************************\")\n",
    "print(style.RESET)\n",
    "\n",
    "f = open(\"message.txt\", \"r\")\n",
    "message = f.read()\n",
    "f.close()\n",
    "\n",
    "print(style.YELLOW + '\\nThis is your message-')\n",
    "print(style.GREEN + message)\n",
    "print(\"\\n\" + style.RESET)\n",
    "message = quote(message)\n",
    "\n",
    "numbers = []\n",
    "f = open(\"numbers.txt\", \"r\")\n",
    "#image = open(\"image.jpg\", \"r\")\n",
    "for line in f.read().splitlines():\n",
    "\tif line.strip() != \"\":\n",
    "\t\tnumbers.append(line.strip())\n",
    "f.close()\n",
    "total_number=len(numbers)\n",
    "print(style.RED + 'We found ' + str(total_number) + ' numbers in the file' + style.RESET)\n",
    "delay = 30\n",
    "\n",
    "driver = webdriver.Chrome(ChromeDriverManager().install(), options=options)\n",
    "print('Once your browser opens up sign in to web whatsapp')\n",
    "driver.get('https://web.whatsapp.com')\n",
    "#input(style.MAGENTA + \"AFTER logging into Whatsapp Web is complete and your chats are visible, press ENTER...\" + style.RESET)\n",
    "for idx, number in enumerate(numbers):\n",
    "\tnumber = number.strip()\n",
    "\tif number == \"\":\n",
    "\t\tcontinue\n",
    "\tprint(style.YELLOW + '{}/{} => Sending message to {}.'.format((idx+1), total_number, number) + style.RESET)\n",
    "\ttry:\n",
    "\t\turl = 'https://web.whatsapp.com/send?phone=' + number + '&text=' + message\n",
    "\t\tsent = False\n",
    "\t\tfor i in range(3):\n",
    "\t\t\tif not sent:\n",
    "\t\t\t\tdriver.get(url)\n",
    "\t\t\t\ttry:\n",
    "\t\t\t\t\tclick_btn = WebDriverWait(driver, delay).until(EC.element_to_be_clickable((By.XPATH, \"//*[@id='main']/footer/div[1]/div/span[2]/div/div[2]/div[2]/button/span\")))\n",
    "                    \n",
    "\t\t\t\texcept Exception as e:\n",
    "\t\t\t\t\tprint(style.RED + f\"\\nFailed to send message to: {number}, retry ({i+1}/3)\")\n",
    "\t\t\t\t\tprint(\"Make sure your phone and computer is connected to the internet.\")\n",
    "\t\t\t\t\tprint(\"If there is an alert, please dismiss it.\" + style.RESET)\n",
    "\t\t\t\telse:\n",
    "\t\t\t\t\tsleep(1)\n",
    "\t\t\t\t\tclick_btn.click()\n",
    "\t\t\t\t\tsent=True\n",
    "\t\t\t\t\tsleep(3)\n",
    "\t\t\t\t\tprint(style.GREEN + 'Message sent to: ' + number + style.RESET)\n",
    "\texcept Exception as e:\n",
    "\t\tprint(style.RED + 'Failed to send message to ' + number + str(e) + style.RESET)\n",
    "driver.close()"
   ]
  },
  {
   "cell_type": "code",
   "execution_count": 2,
   "id": "1716fed3",
   "metadata": {
    "ExecuteTime": {
     "end_time": "2022-06-07T18:08:33.751239Z",
     "start_time": "2022-06-07T18:08:33.742581Z"
    }
   },
   "outputs": [
    {
     "ename": "SyntaxError",
     "evalue": "invalid syntax (2236758483.py, line 1)",
     "output_type": "error",
     "traceback": [
      "\u001b[0;36m  Input \u001b[0;32mIn [2]\u001b[0;36m\u001b[0m\n\u001b[0;31m    pip ipykernel install --user --name=sandro_teste2\u001b[0m\n\u001b[0m        ^\u001b[0m\n\u001b[0;31mSyntaxError\u001b[0m\u001b[0;31m:\u001b[0m invalid syntax\n"
     ]
    }
   ],
   "source": [
    "pip ipykernel install --user --name=sandro_teste2\n",
    "\n"
   ]
  },
  {
   "cell_type": "code",
   "execution_count": null,
   "id": "c3612fc7",
   "metadata": {},
   "outputs": [],
   "source": []
  }
 ],
 "metadata": {
  "kernelspec": {
   "display_name": "sandro_loja_venv",
   "language": "python",
   "name": "sandro_loja_venv"
  },
  "language_info": {
   "codemirror_mode": {
    "name": "ipython",
    "version": 3
   },
   "file_extension": ".py",
   "mimetype": "text/x-python",
   "name": "python",
   "nbconvert_exporter": "python",
   "pygments_lexer": "ipython3",
   "version": "3.9.4"
  },
  "varInspector": {
   "cols": {
    "lenName": 16,
    "lenType": 16,
    "lenVar": 40
   },
   "kernels_config": {
    "python": {
     "delete_cmd_postfix": "",
     "delete_cmd_prefix": "del ",
     "library": "var_list.py",
     "varRefreshCmd": "print(var_dic_list())"
    },
    "r": {
     "delete_cmd_postfix": ") ",
     "delete_cmd_prefix": "rm(",
     "library": "var_list.r",
     "varRefreshCmd": "cat(var_dic_list()) "
    }
   },
   "types_to_exclude": [
    "module",
    "function",
    "builtin_function_or_method",
    "instance",
    "_Feature"
   ],
   "window_display": false
  }
 },
 "nbformat": 4,
 "nbformat_minor": 5
}
